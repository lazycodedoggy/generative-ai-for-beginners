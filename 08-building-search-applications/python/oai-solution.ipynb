{
 "cells": [
  {
   "cell_type": "markdown",
   "metadata": {},
   "source": [
    "In order to run the following noteboooks, if you haven't done yet, you need to set the openai key inside .env file as `OPENAI_API_KEY`"
   ]
  },
  {
   "cell_type": "code",
   "execution_count": 1,
   "metadata": {},
   "outputs": [],
   "source": [
    "import os\n",
    "import pandas as pd\n",
    "import numpy as np\n",
    "from openai import OpenAI\n",
    "from dotenv import load_dotenv\n",
    "\n",
    "load_dotenv()\n",
    "\n",
    "API_KEY = os.getenv(\"OPENAI_API_KEY\",\"\")\n",
    "assert API_KEY, \"ERROR: OpenAI Key is missing\"\n",
    "\n",
    "client = OpenAI(\n",
    "    api_key=API_KEY\n",
    "    )\n",
    "\n",
    "model = 'text-embedding-ada-002'\n",
    "\n",
    "SIMILARITIES_RESULTS_THRESHOLD = 0.75\n",
    "DATASET_NAME = \"../embedding_index_3m.json\""
   ]
  },
  {
   "cell_type": "markdown",
   "metadata": {},
   "source": [
    "Next, we are going to load the Embedding Index into a Pandas Dataframe. The Embedding Index is stored in a JSON file called `embedding_index_3m.json`. The Embedding Index contains the Embeddings for each of the YouTube transcripts up until late Oct 2023."
   ]
  },
  {
   "cell_type": "code",
   "execution_count": 2,
   "metadata": {},
   "outputs": [],
   "source": [
    "def load_dataset(source: str) -> pd.core.frame.DataFrame:\n",
    "    # Load the video session index\n",
    "    pd_vectors = pd.read_json(source)\n",
    "    return pd_vectors.drop(columns=[\"text\"], errors=\"ignore\").fillna(\"\")"
   ]
  },
  {
   "cell_type": "markdown",
   "metadata": {},
   "source": [
    "Next, we are going to create a function called `get_videos` that will search the Embedding Index for the query. The function will return the top 5 videos that are most similar to the query. The function works as follows:\n",
    "\n",
    "1. First, a copy of the Embedding Index is created.\n",
    "2. Next, the Embedding for the query is calculated using the OpenAI Embedding API.\n",
    "3. Then a new column is created in the Embedding Index called `similarity`. The `similarity` column contains the cosine similarity between the query Embedding and the Embedding for each video segment.\n",
    "4. Next, the Embedding Index is filtered by the `similarity` column. The Embedding Index is filtered to only include videos that have a cosine similarity greater than or equal to 0.75.\n",
    "5. Finally, the Embedding Index is sorted by the `similarity` column and the top 5 videos are returned."
   ]
  },
  {
   "cell_type": "code",
   "execution_count": 4,
   "metadata": {},
   "outputs": [],
   "source": [
    "def cosine_similarity(a, b):\n",
    "    return np.dot(a, b) / (np.linalg.norm(a) * np.linalg.norm(b))\n",
    "\n",
    "def get_videos(\n",
    "    query: str, \n",
    "    dataset: pd.core.frame.DataFrame, \n",
    "    rows: int\n",
    ") -> pd.core.frame.DataFrame:\n",
    "    # create a copy of the dataset\n",
    "    video_vectors = dataset.copy()\n",
    "\n",
    "    # get the embeddings for the query    \n",
    "    query_embeddings = client.embeddings.create(input=query, model=model).data[0].embedding\n",
    "\n",
    "    # create a new column with the calculated similarity for each row\n",
    "    video_vectors[\"similarity\"] = video_vectors[\"ada_v2\"].apply(\n",
    "        lambda x: cosine_similarity(np.array(query_embeddings), np.array(x))\n",
    "    )\n",
    "\n",
    "    # filter the videos by similarity\n",
    "    mask = video_vectors[\"similarity\"] >= SIMILARITIES_RESULTS_THRESHOLD\n",
    "    video_vectors = video_vectors[mask].copy()\n",
    "\n",
    "    # sort the videos by similarity\n",
    "    video_vectors = video_vectors.sort_values(by=\"similarity\", ascending=False).head(\n",
    "        rows\n",
    "    )\n",
    "\n",
    "    # return the top rows\n",
    "    return video_vectors.head(rows)"
   ]
  },
  {
   "cell_type": "markdown",
   "metadata": {},
   "source": [
    "This function is very simple, it just prints out the results of the search query."
   ]
  },
  {
   "cell_type": "code",
   "execution_count": 6,
   "metadata": {},
   "outputs": [],
   "source": [
    "def display_results(videos: pd.core.frame.DataFrame, query: str):\n",
    "    def _gen_yt_url(video_id: str, seconds: int) -> str:\n",
    "        \"\"\"convert time in format 00:00:00 to seconds\"\"\"\n",
    "        return f\"https://youtu.be/{video_id}?t={seconds}\"\n",
    "\n",
    "    print(f\"\\nVideos similar to '{query}':\")\n",
    "    for _, row in videos.iterrows():\n",
    "        youtube_url = _gen_yt_url(row[\"videoId\"], row[\"seconds\"])\n",
    "        print(f\" - {row['title']}\")\n",
    "        print(f\"   Summary: {' '.join(row['summary'].split()[:15])}...\")\n",
    "        print(f\"   YouTube: {youtube_url}\")\n",
    "        print(f\"   Similarity: {row['similarity']}\")\n",
    "        print(f\"   Speakers: {row['speaker']}\")"
   ]
  },
  {
   "cell_type": "markdown",
   "metadata": {},
   "source": [
    "1. First, the Embedding Index is loaded into a Pandas Dataframe.\n",
    "2. Next, the user is prompted to enter a query.\n",
    "3. Then the `get_videos` function is called to search the Embedding Index for the query.\n",
    "4. Finally, the `display_results` function is called to display the results to the user.\n",
    "5. The user is then prompted to enter another query. This process continues until the user enters `exit`.\n",
    "\n",
    "![](media/notebook_search.png)\n",
    "\n",
    "You will be prompted to enter a query. Enter a query and press enter. The application will return a list of videos that are relevant to the query. The application will also return a link to the place in the video where the answer to the question is located.\n",
    "\n",
    "Here are some queries to try out:\n",
    "\n",
    "- What is Azure Machine Learning?\n",
    "- How do convolutional neural networks work?\n",
    "- What is a neural network?\n",
    "- Can I use Jupyter Notebooks with Azure Machine Learning?\n",
    "- What is ONNX?"
   ]
  },
  {
   "cell_type": "code",
   "execution_count": 7,
   "metadata": {},
   "outputs": [
    {
     "name": "stdin",
     "output_type": "stream",
     "text": [
      "Enter a query:  How do convolutional neural networks work?\n"
     ]
    },
    {
     "name": "stdout",
     "output_type": "stream",
     "text": [
      "\n",
      "Videos similar to 'How do convolutional neural networks work?':\n",
      " - Data Science, Convolutional Neural Networks, and Machine Learning in the Cloud (Part 3 of 4)\n",
      "   Summary: In this video, Seth Juarez continues his talk on data science, convolutional neural networks, and...\n",
      "   YouTube: https://youtu.be/0TwbqkQ9pxk?t=0\n",
      "   Similarity: 0.8581283383298086\n",
      "   Speakers: Seth Juarez\n",
      " - Demystifying AI\n",
      "   Summary: In this video, the concept of Convolutional Neural Networks (CNNs) in deep learning for computer...\n",
      "   YouTube: https://youtu.be/k-K3g4FKS_c?t=183\n",
      "   Similarity: 0.8496187878559393\n",
      "   Speakers: Micheleen Harris\n",
      " - An Intuitive Approach to Machine Learning Models (Part 1 of 4)\n",
      "   Summary: In this video, the speaker explains the concept of building convolutional neural networks (CNNs) from...\n",
      "   YouTube: https://youtu.be/lPyK38sRWLI?t=549\n",
      "   Similarity: 0.8391825853233789\n",
      "   Speakers: Seth, Seth Juarez\n",
      " - Optimization, Machine Learning Models, and TensorFlow (Part 2 of 4)\n",
      "   Summary: In this video, the speaker explains the basics of deep learning and neural networks. They...\n",
      "   YouTube: https://youtu.be/R9cHR6ogPP0?t=367\n",
      "   Similarity: 0.8372807712245183\n",
      "   Speakers: Seth Juarez\n",
      " - Data Science, Convolutional Neural Networks, and Machine Learning in the Cloud (Part 3 of 4)\n",
      "   Summary: The video explains the concept of convolutional neural networks (CNNs) and how they are used...\n",
      "   YouTube: https://youtu.be/0TwbqkQ9pxk?t=183\n",
      "   Similarity: 0.834907684088374\n",
      "   Speakers: Seth Juarez\n"
     ]
    },
    {
     "name": "stdin",
     "output_type": "stream",
     "text": [
      "Enter a query:  an I use Jupyter Notebooks with Azure Machine Learning?\n"
     ]
    },
    {
     "name": "stdout",
     "output_type": "stream",
     "text": [
      "\n",
      "Videos similar to 'an I use Jupyter Notebooks with Azure Machine Learning?':\n",
      " - Edit and run Jupyter notebooks without leaving Azure Machine Learning studio\n",
      "   Summary: Abe Omorogbe, a Program Manager on the Azure Machine Learning Team at Microsoft, explains the...\n",
      "   YouTube: https://youtu.be/AAj-Fz0uCNk?t=1\n",
      "   Similarity: 0.8775329820625901\n",
      "   Speakers: Abe Omorogbe\n",
      " - Experimentation Using Notebooks in Azure ML with Remote Compute [Part 3/4]\n",
      "   Summary: In this episode of the AI Show, the focus is on using Notebooks in Azure...\n",
      "   YouTube: https://youtu.be/jey9EWKSBwM?t=0\n",
      "   Similarity: 0.875548226014721\n",
      "   Speakers: \n",
      " - Get Started with Azure Machine Learning with Visual Studio Code Tools\n",
      "   Summary: In this video, the speaker discusses how Azure Machine Learning can be used to track...\n",
      "   YouTube: https://youtu.be/u5tqeLAWLPU?t=366\n",
      "   Similarity: 0.872348075721488\n",
      "   Speakers: Chris\n",
      " - Train Machine Learning Models with Azure ML in VS Code\n",
      "   Summary: The video demonstrates how to use Azure Machine Learning to enhance the output of Python...\n",
      "   YouTube: https://youtu.be/F0LEAP9FoIE?t=184\n",
      "   Similarity: 0.8692625751734657\n",
      "   Speakers: Chris Lauren\n",
      " - Building a Pet Detector in 30 minutes or less!\n",
      "   Summary: Azure Notebooks has launched a new feature that integrates with Azure subscriptions, allowing users to...\n",
      "   YouTube: https://youtu.be/VRvj6-o3xdg?t=185\n",
      "   Similarity: 0.867622700525871\n",
      "   Speakers: Seth Juarez, John Lam, Rong\n"
     ]
    },
    {
     "name": "stdin",
     "output_type": "stream",
     "text": [
      "Enter a query:  What is ONNX?\n"
     ]
    },
    {
     "name": "stdout",
     "output_type": "stream",
     "text": [
      "\n",
      "Videos similar to 'What is ONNX?':\n",
      " - ONNX Runtime\n",
      "   Summary: Faith Xu, a Program Manager at Microsoft, introduces ONNX Runtime, an open-source scoring engine for...\n",
      "   YouTube: https://youtu.be/qy7X2JGLUC4?t=0\n",
      "   Similarity: 0.8776302429565807\n",
      "   Speakers: Faith Xu\n",
      " - ONNX Runtime\n",
      "   Summary: Manash Goswami, Principal Program Manager for AI Frameworks at Microsoft, discusses the integration of ONNX...\n",
      "   YouTube: https://youtu.be/nAyv0n5lpX0?t=0\n",
      "   Similarity: 0.8719157913342135\n",
      "   Speakers: Manash Goswami\n",
      " - Faster and Lighter Model Inference with ONNX Runtime from Cloud to Client\n",
      "   Summary: Emma, a Senior Program Manager at Microsoft, introduces the ONNX Runtime, a high-performance inferencing and...\n",
      "   YouTube: https://youtu.be/WDww8ce12Mc?t=0\n",
      "   Similarity: 0.8663354368230922\n",
      "   Speakers: Emma\n",
      " - ONNX Runtime speeds up Image Embedding model in Bing Semantic Precise Image Search\n",
      "   Summary: In this episode of the AI Show, Vinitra Swamy from the ONNX engineering team at...\n",
      "   YouTube: https://youtu.be/pmb6cjngbcA?t=0\n",
      "   Similarity: 0.8550854733025852\n",
      "   Speakers: Vinitra Swamy\n",
      " - Faster and Lighter Model Inference with ONNX Runtime from Cloud to Client\n",
      "   Summary: ONNX Runtime, a high-performance inference engine, is being used by a variety of popular frameworks...\n",
      "   YouTube: https://youtu.be/WDww8ce12Mc?t=184\n",
      "   Similarity: 0.8546238163548296\n",
      "   Speakers: Emma\n"
     ]
    },
    {
     "ename": "KeyboardInterrupt",
     "evalue": "Interrupted by user",
     "output_type": "error",
     "traceback": [
      "\u001b[0;31m---------------------------------------------------------------------------\u001b[0m",
      "\u001b[0;31mKeyboardInterrupt\u001b[0m                         Traceback (most recent call last)",
      "Cell \u001b[0;32mIn[7], line 5\u001b[0m\n\u001b[1;32m      3\u001b[0m \u001b[38;5;66;03m# get user query from imput\u001b[39;00m\n\u001b[1;32m      4\u001b[0m \u001b[38;5;28;01mwhile\u001b[39;00m \u001b[38;5;28;01mTrue\u001b[39;00m:\n\u001b[0;32m----> 5\u001b[0m     query \u001b[38;5;241m=\u001b[39m \u001b[38;5;28;43minput\u001b[39;49m\u001b[43m(\u001b[49m\u001b[38;5;124;43m\"\u001b[39;49m\u001b[38;5;124;43mEnter a query: \u001b[39;49m\u001b[38;5;124;43m\"\u001b[39;49m\u001b[43m)\u001b[49m\n\u001b[1;32m      6\u001b[0m     \u001b[38;5;28;01mif\u001b[39;00m query \u001b[38;5;241m==\u001b[39m \u001b[38;5;124m\"\u001b[39m\u001b[38;5;124mexit\u001b[39m\u001b[38;5;124m\"\u001b[39m:\n\u001b[1;32m      7\u001b[0m         \u001b[38;5;28;01mbreak\u001b[39;00m\n",
      "File \u001b[0;32m~/dev/bin/Anaconda/anaconda3/envs/chatbot-gpt/lib/python3.8/site-packages/ipykernel/kernelbase.py:1282\u001b[0m, in \u001b[0;36mKernel.raw_input\u001b[0;34m(self, prompt)\u001b[0m\n\u001b[1;32m   1280\u001b[0m     msg \u001b[38;5;241m=\u001b[39m \u001b[38;5;124m\"\u001b[39m\u001b[38;5;124mraw_input was called, but this frontend does not support input requests.\u001b[39m\u001b[38;5;124m\"\u001b[39m\n\u001b[1;32m   1281\u001b[0m     \u001b[38;5;28;01mraise\u001b[39;00m StdinNotImplementedError(msg)\n\u001b[0;32m-> 1282\u001b[0m \u001b[38;5;28;01mreturn\u001b[39;00m \u001b[38;5;28;43mself\u001b[39;49m\u001b[38;5;241;43m.\u001b[39;49m\u001b[43m_input_request\u001b[49m\u001b[43m(\u001b[49m\n\u001b[1;32m   1283\u001b[0m \u001b[43m    \u001b[49m\u001b[38;5;28;43mstr\u001b[39;49m\u001b[43m(\u001b[49m\u001b[43mprompt\u001b[49m\u001b[43m)\u001b[49m\u001b[43m,\u001b[49m\n\u001b[1;32m   1284\u001b[0m \u001b[43m    \u001b[49m\u001b[38;5;28;43mself\u001b[39;49m\u001b[38;5;241;43m.\u001b[39;49m\u001b[43m_parent_ident\u001b[49m\u001b[43m[\u001b[49m\u001b[38;5;124;43m\"\u001b[39;49m\u001b[38;5;124;43mshell\u001b[39;49m\u001b[38;5;124;43m\"\u001b[39;49m\u001b[43m]\u001b[49m\u001b[43m,\u001b[49m\n\u001b[1;32m   1285\u001b[0m \u001b[43m    \u001b[49m\u001b[38;5;28;43mself\u001b[39;49m\u001b[38;5;241;43m.\u001b[39;49m\u001b[43mget_parent\u001b[49m\u001b[43m(\u001b[49m\u001b[38;5;124;43m\"\u001b[39;49m\u001b[38;5;124;43mshell\u001b[39;49m\u001b[38;5;124;43m\"\u001b[39;49m\u001b[43m)\u001b[49m\u001b[43m,\u001b[49m\n\u001b[1;32m   1286\u001b[0m \u001b[43m    \u001b[49m\u001b[43mpassword\u001b[49m\u001b[38;5;241;43m=\u001b[39;49m\u001b[38;5;28;43;01mFalse\u001b[39;49;00m\u001b[43m,\u001b[49m\n\u001b[1;32m   1287\u001b[0m \u001b[43m\u001b[49m\u001b[43m)\u001b[49m\n",
      "File \u001b[0;32m~/dev/bin/Anaconda/anaconda3/envs/chatbot-gpt/lib/python3.8/site-packages/ipykernel/kernelbase.py:1325\u001b[0m, in \u001b[0;36mKernel._input_request\u001b[0;34m(self, prompt, ident, parent, password)\u001b[0m\n\u001b[1;32m   1322\u001b[0m \u001b[38;5;28;01mexcept\u001b[39;00m \u001b[38;5;167;01mKeyboardInterrupt\u001b[39;00m:\n\u001b[1;32m   1323\u001b[0m     \u001b[38;5;66;03m# re-raise KeyboardInterrupt, to truncate traceback\u001b[39;00m\n\u001b[1;32m   1324\u001b[0m     msg \u001b[38;5;241m=\u001b[39m \u001b[38;5;124m\"\u001b[39m\u001b[38;5;124mInterrupted by user\u001b[39m\u001b[38;5;124m\"\u001b[39m\n\u001b[0;32m-> 1325\u001b[0m     \u001b[38;5;28;01mraise\u001b[39;00m \u001b[38;5;167;01mKeyboardInterrupt\u001b[39;00m(msg) \u001b[38;5;28;01mfrom\u001b[39;00m \u001b[38;5;28;01mNone\u001b[39;00m\n\u001b[1;32m   1326\u001b[0m \u001b[38;5;28;01mexcept\u001b[39;00m \u001b[38;5;167;01mException\u001b[39;00m:\n\u001b[1;32m   1327\u001b[0m     \u001b[38;5;28mself\u001b[39m\u001b[38;5;241m.\u001b[39mlog\u001b[38;5;241m.\u001b[39mwarning(\u001b[38;5;124m\"\u001b[39m\u001b[38;5;124mInvalid Message:\u001b[39m\u001b[38;5;124m\"\u001b[39m, exc_info\u001b[38;5;241m=\u001b[39m\u001b[38;5;28;01mTrue\u001b[39;00m)\n",
      "\u001b[0;31mKeyboardInterrupt\u001b[0m: Interrupted by user"
     ]
    }
   ],
   "source": [
    "pd_vectors = load_dataset(DATASET_NAME)\n",
    "\n",
    "# get user query from imput\n",
    "while True:\n",
    "    query = input(\"Enter a query: \")\n",
    "    if query == \"exit\":\n",
    "        break\n",
    "    videos = get_videos(query, pd_vectors, 5)\n",
    "    display_results(videos, query)"
   ]
  },
  {
   "cell_type": "code",
   "execution_count": 21,
   "metadata": {},
   "outputs": [
    {
     "name": "stdout",
     "output_type": "stream",
     "text": [
      "['speaker', 'title', 'videoId', 'start', 'seconds', 'summary', 'ada_v2']\n",
      "[0, 1]\n",
      "                                 speaker  \\\n",
      "2  Seth Juarez, Josh Lovejoy, Sarah Bird   \n",
      "3  Seth Juarez, Josh Lovejoy, Sarah Bird   \n",
      "\n",
      "                                               title      videoId     start  \\\n",
      "2  You're Not Solving the Problem You Think You'r...  -tJQm4mSh1s  00:06:13   \n",
      "3  You're Not Solving the Problem You Think You'r...  -tJQm4mSh1s  00:09:21   \n",
      "\n",
      "   seconds                                            summary  \\\n",
      "2      373  The video discusses the limitations of general...   \n",
      "3      561  The video discusses the importance of consider...   \n",
      "\n",
      "                                              ada_v2  \n",
      "2  [0.00287682027556, -0.012365541420876001, 0.02...  \n",
      "3  [0.015913352370262, 0.000721095071639, 0.02349...  \n",
      "      start                                            summary\n",
      "2  00:06:13  The video discusses the limitations of general...\n",
      "3  00:09:21  The video discusses the importance of consider...\n",
      "4  00:12:24  The video discusses the importance of understa...\n"
     ]
    }
   ],
   "source": [
    "print(list(pd_vectors))\n",
    "print(pd_vectors._stat_axis.values.tolist()[:2])\n",
    "#print(pd_vectors.head)\n",
    "print(pd_vectors[2:4])\n",
    "print(pd_vectors.loc[2:4, ['start', 'summary']])"
   ]
  },
  {
   "cell_type": "code",
   "execution_count": null,
   "metadata": {},
   "outputs": [],
   "source": []
  },
  {
   "cell_type": "markdown",
   "metadata": {},
   "source": []
  }
 ],
 "metadata": {
  "kernelspec": {
   "display_name": "Python [conda env:chatbot-gpt]",
   "language": "python",
   "name": "conda-env-chatbot-gpt-py"
  },
  "language_info": {
   "codemirror_mode": {
    "name": "ipython",
    "version": 3
   },
   "file_extension": ".py",
   "mimetype": "text/x-python",
   "name": "python",
   "nbconvert_exporter": "python",
   "pygments_lexer": "ipython3",
   "version": "3.8.19"
  }
 },
 "nbformat": 4,
 "nbformat_minor": 4
}
