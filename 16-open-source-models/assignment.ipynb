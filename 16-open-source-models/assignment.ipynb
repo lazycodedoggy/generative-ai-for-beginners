{
 "cells": [
  {
   "cell_type": "code",
   "execution_count": 1,
   "id": "d396d363-e1ab-4201-bf29-8df406f6772b",
   "metadata": {},
   "outputs": [
    {
     "name": "stderr",
     "output_type": "stream",
     "text": [
      "/Users/stephen4sheng/dev/bin/Anaconda/anaconda3/envs/chatbot-gpt/lib/python3.8/site-packages/tqdm/auto.py:21: TqdmWarning: IProgress not found. Please update jupyter and ipywidgets. See https://ipywidgets.readthedocs.io/en/stable/user_install.html\n",
      "  from .autonotebook import tqdm as notebook_tqdm\n"
     ]
    }
   ],
   "source": [
    "from transformers import AutoTokenizer, AutoModelForCausalLM\n",
    "import transformers\n",
    "import torch\n",
    "import os\n",
    "\n",
    "os.makedirs(\"./offload\", exist_ok=True)\n",
    "\n",
    "#modelName = \"meta-llama/Llama-2-7b-chat\"\n",
    "modelPath = \"mistralai/Mistral-7B-v0.1\""
   ]
  },
  {
   "cell_type": "code",
   "execution_count": 2,
   "id": "34670e12-d2bb-41cd-919c-e9bfac8eeacb",
   "metadata": {},
   "outputs": [
    {
     "name": "stderr",
     "output_type": "stream",
     "text": [
      "/Users/stephen4sheng/dev/bin/Anaconda/anaconda3/envs/chatbot-gpt/lib/python3.8/site-packages/huggingface_hub/file_download.py:1132: FutureWarning: `resume_download` is deprecated and will be removed in version 1.0.0. Downloads always resume when possible. If you want to force a new download, use `force_download=True`.\n",
      "  warnings.warn(\n",
      "/Users/stephen4sheng/dev/bin/Anaconda/anaconda3/envs/chatbot-gpt/lib/python3.8/site-packages/huggingface_hub/file_download.py:1132: FutureWarning: `resume_download` is deprecated and will be removed in version 1.0.0. Downloads always resume when possible. If you want to force a new download, use `force_download=True`.\n",
      "  warnings.warn(\n",
      "Downloading shards: 100%|██████████| 2/2 [12:01<00:00, 360.86s/it]\n",
      "Loading checkpoint shards: 100%|██████████| 2/2 [00:12<00:00,  6.11s/it]\n"
     ]
    }
   ],
   "source": [
    "model = AutoModelForCausalLM.from_pretrained(\n",
    "    modelPath,\n",
    "    device_map=\"auto\",\n",
    "    torch_dtype=torch.float16,\n",
    "    offload_folder=\"./offload\",\n",
    "    trust_remote_code=True,\n",
    ")"
   ]
  },
  {
   "cell_type": "code",
   "execution_count": 3,
   "id": "b1ad867d-e162-4e3d-8ac5-21d560fd335a",
   "metadata": {},
   "outputs": [],
   "source": [
    "tokenizer = AutoTokenizer.from_pretrained(modelPath, trust_remote_code=True)\n",
    "\n",
    "pipeline = transformers.pipeline(\n",
    "    \"text-generation\",\n",
    "    model=model,\n",
    "    device_map=\"auto\",\n",
    "    tokenizer=tokenizer,\n",
    "    torch_dtype=torch.float16,\n",
    "    trust_remote_code=True,\n",
    ")"
   ]
  },
  {
   "cell_type": "code",
   "execution_count": 4,
   "id": "512167e8-385d-46e9-bf18-8055b3b6588e",
   "metadata": {
    "scrolled": true
   },
   "outputs": [],
   "source": [
    "sequences = pipeline(\n",
    "    \"Girafatron is obsessed with giraffes, the most glorious animal on the face of this Earth. Giraftron believes all other animals are irrelevant when compared to the glorious majesty of the giraffe.\\nDaniel: Hello, Girafatron!\\nGirafatron:\",\n",
    "    max_length=200,\n",
    "    do_sample=True,\n",
    "    top_k=10,\n",
    "    num_return_sequences=1,\n",
    "    eos_token_id=tokenizer.eos_token_id\n",
    ")"
   ]
  },
  {
   "cell_type": "code",
   "execution_count": 5,
   "id": "674fc481-caa2-44c0-8405-3fab751af1d5",
   "metadata": {},
   "outputs": [
    {
     "name": "stdout",
     "output_type": "stream",
     "text": [
      "Result: Girafatron is obsessed with giraffes, the most glorious animal on the face of this Earth. Giraftron believes all other animals are irrelevant when compared to the glorious majesty of the giraffe.\n",
      "Daniel: Hello, Girafatron!\n",
      "Girafatron: Hello, fellow human! I am Girafatron! Girafatron is very happy, because today is Girafatron's birthday!\n",
      "Daniel: Oh, that's fantastic! What is Girafatron's favorite food?\n",
      "Girafatron: Girafatron likes cake! Girafatron also like to eat giraffes. I am a giraffe-eater, yes.\n",
      "Daniel: Why do you like giraffes so much?\n",
      "Girafatron: Giraffes are the best, most perfect animals that the world has ever had the pleasure of seeing! Giraffes\n"
     ]
    }
   ],
   "source": [
    "for seq in sequences:\n",
    "    print(f\"Result: {seq['generated_text']}\")"
   ]
  },
  {
   "cell_type": "markdown",
   "id": "bd44fb2e-27b7-4659-91e0-ec059abd25c1",
   "metadata": {},
   "source": [
    "GPT2 outputs:\n",
    "Result: Girafatron is obsessed with giraffes, the most glorious animal on the face of this Earth. Giraftron believes all other animals are irrelevant when compared to the glorious majesty of the giraffe.\n",
    "Daniel: Hello, Girafatron!\n",
    "Girafatron: Ah, hello. I see.\n",
    "Daniel: I understand.\n",
    "Girafatron: It's fine, I understand.\n",
    "Daniel: You see... I think you're going to want to know what you want to know, and I'll be happy to help.\n",
    "Girafatron: Yes, I will!\n",
    "Daniel: You're welcome, giraffe.\n",
    "Daniel: Thank you. I'll be sure to have you at my place when I return.\n",
    "Girafatron: Yes... I hope so.\n",
    "Daniel: Good. Thank you, Girafatron. Now... now...\n",
    "Daniel:...what?\n",
    "Girafatron: You're going to need something"
   ]
  }
 ],
 "metadata": {
  "kernelspec": {
   "display_name": "Python [conda env:chatbot-gpt]",
   "language": "python",
   "name": "conda-env-chatbot-gpt-py"
  },
  "language_info": {
   "codemirror_mode": {
    "name": "ipython",
    "version": 3
   },
   "file_extension": ".py",
   "mimetype": "text/x-python",
   "name": "python",
   "nbconvert_exporter": "python",
   "pygments_lexer": "ipython3",
   "version": "3.8.19"
  }
 },
 "nbformat": 4,
 "nbformat_minor": 5
}
